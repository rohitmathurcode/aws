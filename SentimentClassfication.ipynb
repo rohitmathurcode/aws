{
 "cells": [
  {
   "cell_type": "markdown",
   "id": "234b4683",
   "metadata": {},
   "source": [
    "# Sentiment Classification of Product Reviews Using RNNs"
   ]
  },
  {
   "cell_type": "markdown",
   "id": "565c973e",
   "metadata": {},
   "source": [
    "## Objectives"
   ]
  },
  {
   "cell_type": "markdown",
   "id": "94484ad3",
   "metadata": {},
   "source": [
    "* Explore Amazon product review dataset\n",
    "* Data manipulations to extract predictors and labels from the raw data\n",
    "* Cleaning of the text reviews\n",
    "* Tokenize the reviews to convert them into sequences of numbers\n",
    "* Pad the variable length sequences to make them of equal lenghts \n",
    "* Build and train the model for sentiment classification\n",
    "* Predict sentiments using the trained model"
   ]
  },
  {
   "cell_type": "markdown",
   "id": "be8fa659",
   "metadata": {},
   "source": [
    "## The problem\n",
    "\n",
    "Suppose that we are working in Globomantics which is one of the most popular e-commerce companies. To improve user experience, you want to analyse your products based on customer reviews and change your product catalog accordingly. To achieve this, you want to build an intelligent system which will analyse the customer sentiments automatically from thousands of product reviews provided by the consumers. In short, you want to predict sentiments from the customer reviews. You'll build and train a model using recurrent neural networks to accomplish this. "
   ]
  },
  {
   "cell_type": "markdown",
   "id": "6b8067b5",
   "metadata": {},
   "source": [
    "## Dataset\n",
    "\n",
    "We'll be using an open-source Amazon customer review dataset available in Kaggle. The dataset can be downloaded from [here](https://www.kaggle.com/datasets/datafiniti/consumer-reviews-of-amazon-products). \n",
    "\n",
    "The dataset contains about 34000 consumer reviews about Amazon producrs like Kindle, Fire TV Stick etc. Each record conatins a lot of details about the product and details about the reviews."
   ]
  },
  {
   "cell_type": "markdown",
   "id": "6224533d",
   "metadata": {},
   "source": [
    "## Read and Explore the dataset"
   ]
  },
  {
   "cell_type": "markdown",
   "id": "b8c89b63",
   "metadata": {},
   "source": [
    "We are importing the libraries Pandas and Numpy to do basic data manipulations. We are also importing the python package to use [regular expressions](https://docs.python.org/3/library/re.html). This will be necessary to preprocess the text data."
   ]
  },
  {
   "cell_type": "code",
   "execution_count": 1,
   "id": "58f5c56f",
   "metadata": {},
   "outputs": [],
   "source": [
    "import warnings\n",
    "warnings.filterwarnings('ignore')"
   ]
  },
  {
   "cell_type": "code",
   "execution_count": 2,
   "id": "c1f983e5",
   "metadata": {},
   "outputs": [],
   "source": [
    "import pandas as pd\n",
    "import numpy as np\n",
    "import re"
   ]
  },
  {
   "cell_type": "markdown",
   "id": "65c67f1d",
   "metadata": {},
   "source": [
    "We already downloaded the dataset from [here](https://www.kaggle.com/datasets/datafiniti/consumer-reviews-of-amazon-products?select=1429_1.csv) and saved it as a CSV file which we'll read now using Pandas."
   ]
  },
  {
   "cell_type": "code",
   "execution_count": 3,
   "id": "2ef39fe5",
   "metadata": {},
   "outputs": [],
   "source": [
    "df = pd.read_csv('1429_1.csv')"
   ]
  },
  {
   "cell_type": "code",
   "execution_count": 4,
   "id": "a809651f",
   "metadata": {},
   "outputs": [
    {
     "data": {
      "text/plain": [
       "(34660, 21)"
      ]
     },
     "execution_count": 4,
     "metadata": {},
     "output_type": "execute_result"
    }
   ],
   "source": [
    "df.shape"
   ]
  },
  {
   "cell_type": "code",
   "execution_count": null,
   "id": "cd6416d0",
   "metadata": {},
   "outputs": [],
   "source": []
  },
  {
   "cell_type": "code",
   "execution_count": null,
   "id": "9cd89bfa",
   "metadata": {},
   "outputs": [],
   "source": []
  },
  {
   "cell_type": "code",
   "execution_count": null,
   "id": "a6bed410",
   "metadata": {},
   "outputs": [],
   "source": []
  },
  {
   "cell_type": "code",
   "execution_count": 5,
   "id": "24c23cd2",
   "metadata": {},
   "outputs": [
    {
     "data": {
      "text/plain": [
       "id                                                   AVqkIhwDv8e3D1O-lebb\n",
       "name                    All-New Fire HD 8 Tablet, 8 HD Display, Wi-Fi,...\n",
       "asins                                                          B01AHB9CN2\n",
       "brand                                                              Amazon\n",
       "categories              Electronics,iPad & Tablets,All Tablets,Fire Ta...\n",
       "keys                    841667104676,amazon/53004484,amazon/b01ahb9cn2...\n",
       "manufacturer                                                       Amazon\n",
       "reviews.date                                     2017-01-13T00:00:00.000Z\n",
       "reviews.dateAdded                                    2017-07-03T23:33:15Z\n",
       "reviews.dateSeen        2017-06-07T09:04:00.000Z,2017-04-30T00:45:00.000Z\n",
       "reviews.didPurchase                                                   NaN\n",
       "reviews.doRecommend                                                  True\n",
       "reviews.id                                                            NaN\n",
       "reviews.numHelpful                                                    0.0\n",
       "reviews.rating                                                        5.0\n",
       "reviews.sourceURLs      http://reviews.bestbuy.com/3545/5620406/review...\n",
       "reviews.text            This product so far has not disappointed. My c...\n",
       "reviews.title                                                      Kindle\n",
       "reviews.userCity                                                      NaN\n",
       "reviews.userProvince                                                  NaN\n",
       "reviews.username                                                  Adapter\n",
       "Name: 0, dtype: object"
      ]
     },
     "execution_count": 5,
     "metadata": {},
     "output_type": "execute_result"
    }
   ],
   "source": [
    "df.iloc[0]"
   ]
  },
  {
   "cell_type": "code",
   "execution_count": null,
   "id": "6d0b374b",
   "metadata": {},
   "outputs": [],
   "source": []
  },
  {
   "cell_type": "code",
   "execution_count": null,
   "id": "13a28e5e",
   "metadata": {},
   "outputs": [],
   "source": []
  },
  {
   "cell_type": "code",
   "execution_count": null,
   "id": "bedd615e",
   "metadata": {},
   "outputs": [],
   "source": []
  },
  {
   "cell_type": "code",
   "execution_count": 6,
   "id": "4e1af566",
   "metadata": {},
   "outputs": [
    {
     "name": "stdout",
     "output_type": "stream",
     "text": [
      "4.0\n",
      "I've had my Fire HD 8 two weeks now and I love it. This tablet is a great value.We are Prime Members and that is where this tablet SHINES. I love being able to easily access all of the Prime content as well as movies you can download and watch laterThis has a 1280/800 screen which has some really nice look to it its nice and crisp and very bright infact it is brighter then the ipad pro costing $900 base model. The build on this fire is INSANELY AWESOME running at only 7.7mm thick and the smooth glossy feel on the back it is really amazing to hold its like the futuristic tab in ur hands.\n"
     ]
    }
   ],
   "source": [
    "print(df.iloc[3][\"reviews.rating\"])\n",
    "print(df.iloc[3][\"reviews.text\"])"
   ]
  },
  {
   "cell_type": "code",
   "execution_count": 7,
   "id": "04185a30",
   "metadata": {},
   "outputs": [
    {
     "name": "stdout",
     "output_type": "stream",
     "text": [
      "1.0\n",
      "I purchased this item on the recommendation of many existing owners. However, when I got home and attempted to set up the device, it was frustrating and the instructions/FAQs were not very helpful. The echo could not find my NEST thermostat, nor could it find about half of my HUE lights. Once I argued and fought with Alexa for about 45 minutes, she finally started to pick up my lights and after COMLETELY re-configuring my thermostat, she could see it, but she would not work with it. Once she found all of my lights, she would turn them on or off, but would not change colors or brightness levels. I run a software company and have worked in and with computers my whole life. This should not have been this quirky. I would not recommend this item. Get a Google Home.\n"
     ]
    }
   ],
   "source": [
    "print(df.iloc[27162][\"reviews.rating\"])\n",
    "print(df.iloc[27162][\"reviews.text\"])"
   ]
  },
  {
   "cell_type": "code",
   "execution_count": null,
   "id": "0e3235f8",
   "metadata": {},
   "outputs": [],
   "source": []
  },
  {
   "cell_type": "code",
   "execution_count": null,
   "id": "06644e0a",
   "metadata": {},
   "outputs": [],
   "source": []
  },
  {
   "cell_type": "code",
   "execution_count": null,
   "id": "8a342a92",
   "metadata": {},
   "outputs": [],
   "source": []
  },
  {
   "cell_type": "markdown",
   "id": "eef30c1e",
   "metadata": {},
   "source": [
    "## Data Manipulations"
   ]
  },
  {
   "cell_type": "code",
   "execution_count": 8,
   "id": "66739e54",
   "metadata": {},
   "outputs": [],
   "source": [
    "reviews_df = df[[\"reviews.text\", \"reviews.rating\",]]\n",
    "reviews_df.columns = [\"review\", \"rating\"]"
   ]
  },
  {
   "cell_type": "code",
   "execution_count": 9,
   "id": "629dec13",
   "metadata": {},
   "outputs": [
    {
     "data": {
      "text/html": [
       "<div>\n",
       "<style scoped>\n",
       "    .dataframe tbody tr th:only-of-type {\n",
       "        vertical-align: middle;\n",
       "    }\n",
       "\n",
       "    .dataframe tbody tr th {\n",
       "        vertical-align: top;\n",
       "    }\n",
       "\n",
       "    .dataframe thead th {\n",
       "        text-align: right;\n",
       "    }\n",
       "</style>\n",
       "<table border=\"1\" class=\"dataframe\">\n",
       "  <thead>\n",
       "    <tr style=\"text-align: right;\">\n",
       "      <th></th>\n",
       "      <th>review</th>\n",
       "      <th>rating</th>\n",
       "    </tr>\n",
       "  </thead>\n",
       "  <tbody>\n",
       "    <tr>\n",
       "      <th>0</th>\n",
       "      <td>This product so far has not disappointed. My c...</td>\n",
       "      <td>5.0</td>\n",
       "    </tr>\n",
       "    <tr>\n",
       "      <th>1</th>\n",
       "      <td>great for beginner or experienced person. Boug...</td>\n",
       "      <td>5.0</td>\n",
       "    </tr>\n",
       "    <tr>\n",
       "      <th>2</th>\n",
       "      <td>Inexpensive tablet for him to use and learn on...</td>\n",
       "      <td>5.0</td>\n",
       "    </tr>\n",
       "    <tr>\n",
       "      <th>3</th>\n",
       "      <td>I've had my Fire HD 8 two weeks now and I love...</td>\n",
       "      <td>4.0</td>\n",
       "    </tr>\n",
       "    <tr>\n",
       "      <th>4</th>\n",
       "      <td>I bought this for my grand daughter when she c...</td>\n",
       "      <td>5.0</td>\n",
       "    </tr>\n",
       "  </tbody>\n",
       "</table>\n",
       "</div>"
      ],
      "text/plain": [
       "                                              review  rating\n",
       "0  This product so far has not disappointed. My c...     5.0\n",
       "1  great for beginner or experienced person. Boug...     5.0\n",
       "2  Inexpensive tablet for him to use and learn on...     5.0\n",
       "3  I've had my Fire HD 8 two weeks now and I love...     4.0\n",
       "4  I bought this for my grand daughter when she c...     5.0"
      ]
     },
     "execution_count": 9,
     "metadata": {},
     "output_type": "execute_result"
    }
   ],
   "source": [
    "reviews_df.head()"
   ]
  },
  {
   "cell_type": "code",
   "execution_count": 10,
   "id": "15777d3c",
   "metadata": {},
   "outputs": [
    {
     "data": {
      "text/plain": [
       "review     1\n",
       "rating    33\n",
       "dtype: int64"
      ]
     },
     "execution_count": 10,
     "metadata": {},
     "output_type": "execute_result"
    }
   ],
   "source": [
    "reviews_df.isnull().sum()"
   ]
  },
  {
   "cell_type": "code",
   "execution_count": 11,
   "id": "73e22b36",
   "metadata": {},
   "outputs": [],
   "source": [
    "reviews_df.dropna(inplace=True)"
   ]
  },
  {
   "cell_type": "code",
   "execution_count": null,
   "id": "a8e490f0",
   "metadata": {},
   "outputs": [],
   "source": []
  },
  {
   "cell_type": "code",
   "execution_count": null,
   "id": "7a8f6c78",
   "metadata": {},
   "outputs": [],
   "source": []
  },
  {
   "cell_type": "code",
   "execution_count": null,
   "id": "cece86fb",
   "metadata": {},
   "outputs": [],
   "source": []
  },
  {
   "cell_type": "code",
   "execution_count": 12,
   "id": "ccba4d40",
   "metadata": {},
   "outputs": [],
   "source": [
    "def sentiments(rating):\n",
    "    if (rating == 5) or (rating == 4):\n",
    "        return \"positive\"\n",
    "    elif rating == 3:\n",
    "        return \"neutral\"\n",
    "    elif (rating == 2) or (rating == 1):\n",
    "        return \"negative\""
   ]
  },
  {
   "cell_type": "code",
   "execution_count": 13,
   "id": "161dbf9d",
   "metadata": {},
   "outputs": [],
   "source": [
    "reviews_df[\"sentiment\"] = reviews_df[\"rating\"].apply(sentiments)"
   ]
  },
  {
   "cell_type": "code",
   "execution_count": 14,
   "id": "1c2fc1ad",
   "metadata": {},
   "outputs": [
    {
     "data": {
      "text/html": [
       "<div>\n",
       "<style scoped>\n",
       "    .dataframe tbody tr th:only-of-type {\n",
       "        vertical-align: middle;\n",
       "    }\n",
       "\n",
       "    .dataframe tbody tr th {\n",
       "        vertical-align: top;\n",
       "    }\n",
       "\n",
       "    .dataframe thead th {\n",
       "        text-align: right;\n",
       "    }\n",
       "</style>\n",
       "<table border=\"1\" class=\"dataframe\">\n",
       "  <thead>\n",
       "    <tr style=\"text-align: right;\">\n",
       "      <th></th>\n",
       "      <th>review</th>\n",
       "      <th>rating</th>\n",
       "      <th>sentiment</th>\n",
       "    </tr>\n",
       "  </thead>\n",
       "  <tbody>\n",
       "    <tr>\n",
       "      <th>0</th>\n",
       "      <td>I like the fact that I don't have to carry boo...</td>\n",
       "      <td>5.0</td>\n",
       "      <td>positive</td>\n",
       "    </tr>\n",
       "    <tr>\n",
       "      <th>1</th>\n",
       "      <td>Love Alexa. I have 3 echoes now and 2 dots. I ...</td>\n",
       "      <td>5.0</td>\n",
       "      <td>positive</td>\n",
       "    </tr>\n",
       "    <tr>\n",
       "      <th>2</th>\n",
       "      <td>I like my ECHO, she however will talk on her o...</td>\n",
       "      <td>4.0</td>\n",
       "      <td>positive</td>\n",
       "    </tr>\n",
       "    <tr>\n",
       "      <th>3</th>\n",
       "      <td>Clunky and full of ads. Ok for my kids to use ...</td>\n",
       "      <td>2.0</td>\n",
       "      <td>negative</td>\n",
       "    </tr>\n",
       "    <tr>\n",
       "      <th>4</th>\n",
       "      <td>Awesome product, works great. Good for listeni...</td>\n",
       "      <td>5.0</td>\n",
       "      <td>positive</td>\n",
       "    </tr>\n",
       "    <tr>\n",
       "      <th>5</th>\n",
       "      <td>Everyone should have one. Awesome!! Just ask A...</td>\n",
       "      <td>5.0</td>\n",
       "      <td>positive</td>\n",
       "    </tr>\n",
       "    <tr>\n",
       "      <th>6</th>\n",
       "      <td>This is a wonderful device. I love the extra c...</td>\n",
       "      <td>5.0</td>\n",
       "      <td>positive</td>\n",
       "    </tr>\n",
       "    <tr>\n",
       "      <th>7</th>\n",
       "      <td>The Charger is not lasting, Screen is ok,Funct...</td>\n",
       "      <td>4.0</td>\n",
       "      <td>positive</td>\n",
       "    </tr>\n",
       "    <tr>\n",
       "      <th>8</th>\n",
       "      <td>I purchased this item on the recommendation of...</td>\n",
       "      <td>1.0</td>\n",
       "      <td>negative</td>\n",
       "    </tr>\n",
       "    <tr>\n",
       "      <th>9</th>\n",
       "      <td>Great to group all your program app into one d...</td>\n",
       "      <td>5.0</td>\n",
       "      <td>positive</td>\n",
       "    </tr>\n",
       "  </tbody>\n",
       "</table>\n",
       "</div>"
      ],
      "text/plain": [
       "                                              review  rating sentiment\n",
       "0  I like the fact that I don't have to carry boo...     5.0  positive\n",
       "1  Love Alexa. I have 3 echoes now and 2 dots. I ...     5.0  positive\n",
       "2  I like my ECHO, she however will talk on her o...     4.0  positive\n",
       "3  Clunky and full of ads. Ok for my kids to use ...     2.0  negative\n",
       "4  Awesome product, works great. Good for listeni...     5.0  positive\n",
       "5  Everyone should have one. Awesome!! Just ask A...     5.0  positive\n",
       "6  This is a wonderful device. I love the extra c...     5.0  positive\n",
       "7  The Charger is not lasting, Screen is ok,Funct...     4.0  positive\n",
       "8  I purchased this item on the recommendation of...     1.0  negative\n",
       "9  Great to group all your program app into one d...     5.0  positive"
      ]
     },
     "execution_count": 14,
     "metadata": {},
     "output_type": "execute_result"
    }
   ],
   "source": [
    "reviews_df.sample(10, random_state = 86, ignore_index=True)"
   ]
  },
  {
   "cell_type": "code",
   "execution_count": null,
   "id": "b645057b",
   "metadata": {},
   "outputs": [],
   "source": []
  },
  {
   "cell_type": "code",
   "execution_count": null,
   "id": "f685198c",
   "metadata": {},
   "outputs": [],
   "source": []
  },
  {
   "cell_type": "code",
   "execution_count": null,
   "id": "01fb1026",
   "metadata": {},
   "outputs": [],
   "source": []
  },
  {
   "cell_type": "code",
   "execution_count": 15,
   "id": "103c002e",
   "metadata": {},
   "outputs": [
    {
     "name": "stdout",
     "output_type": "stream",
     "text": [
      "['positive' 'positive' 'positive' 'positive' 'positive']\n",
      "\n",
      "\n",
      "['This product so far has not disappointed. My children love to use it and I like the ability to monitor control what content they see with ease.'\n",
      " 'great for beginner or experienced person. Bought as a gift and she loves it'\n",
      " 'Inexpensive tablet for him to use and learn on, step up from the NABI. He was thrilled with it, learn how to Skype on it already...'\n",
      " \"I've had my Fire HD 8 two weeks now and I love it. This tablet is a great value.We are Prime Members and that is where this tablet SHINES. I love being able to easily access all of the Prime content as well as movies you can download and watch laterThis has a 1280/800 screen which has some really nice look to it its nice and crisp and very bright infact it is brighter then the ipad pro costing $900 base model. The build on this fire is INSANELY AWESOME running at only 7.7mm thick and the smooth glossy feel on the back it is really amazing to hold its like the futuristic tab in ur hands.\"\n",
      " 'I bought this for my grand daughter when she comes over to visit. I set it up with her as the user, entered her age and name and now Amazon makes sure that she only accesses sites and content that are appropriate to her age. Simple to do and she loves the capabilities. I also bought and installed a 64gig SD card which gives this little tablet plenty of storage. For the price I think this tablet is best one out there. You can spend hundreds of dollars more for additional speed and capacity but when it comes to the basics this tablets does everything that most people will ever need at a fraction of the cost.']\n"
     ]
    }
   ],
   "source": [
    "sentiments = reviews_df[\"sentiment\"].values\n",
    "reviews = reviews_df[\"review\"].values\n",
    "print(sentiments[0:5])\n",
    "print(\"\\n\")\n",
    "print(reviews[0:5])"
   ]
  },
  {
   "cell_type": "code",
   "execution_count": null,
   "id": "efa922e5",
   "metadata": {},
   "outputs": [],
   "source": []
  },
  {
   "cell_type": "code",
   "execution_count": null,
   "id": "fd2a9db2",
   "metadata": {},
   "outputs": [],
   "source": []
  },
  {
   "cell_type": "code",
   "execution_count": null,
   "id": "1911d61e",
   "metadata": {},
   "outputs": [],
   "source": []
  },
  {
   "cell_type": "markdown",
   "id": "1d0857c0",
   "metadata": {},
   "source": [
    "## Convert text categories into one-hot encoded vector"
   ]
  },
  {
   "cell_type": "markdown",
   "id": "d370c7df",
   "metadata": {},
   "source": [
    "We are importing keras utils here, this will be needed to convert the labels to one-hot encoded vectors. We'll use the the function \"to_categorical\" from this library to do this. To know more about this function, please check out this [link](https://www.tensorflow.org/api_docs/python/tf/keras/utils/to_categorical)."
   ]
  },
  {
   "cell_type": "code",
   "execution_count": 16,
   "id": "92077a31",
   "metadata": {},
   "outputs": [
    {
     "name": "stdout",
     "output_type": "stream",
     "text": [
      "Looking in indexes: https://pypi.org/simple, https://pip.repos.neuron.amazonaws.com\n",
      "Requirement already satisfied: tensorflow in /home/ec2-user/anaconda3/envs/amazonei_pytorch_latest_p37/lib/python3.7/site-packages (2.11.0)\n",
      "Requirement already satisfied: setuptools in /home/ec2-user/anaconda3/envs/amazonei_pytorch_latest_p37/lib/python3.7/site-packages (from tensorflow) (65.6.3)\n",
      "Requirement already satisfied: absl-py>=1.0.0 in /home/ec2-user/anaconda3/envs/amazonei_pytorch_latest_p37/lib/python3.7/site-packages (from tensorflow) (1.4.0)\n",
      "Requirement already satisfied: packaging in /home/ec2-user/anaconda3/envs/amazonei_pytorch_latest_p37/lib/python3.7/site-packages (from tensorflow) (21.3)\n",
      "Requirement already satisfied: gast<=0.4.0,>=0.2.1 in /home/ec2-user/anaconda3/envs/amazonei_pytorch_latest_p37/lib/python3.7/site-packages (from tensorflow) (0.4.0)\n",
      "Requirement already satisfied: grpcio<2.0,>=1.24.3 in /home/ec2-user/anaconda3/envs/amazonei_pytorch_latest_p37/lib/python3.7/site-packages (from tensorflow) (1.54.0)\n",
      "Requirement already satisfied: libclang>=13.0.0 in /home/ec2-user/anaconda3/envs/amazonei_pytorch_latest_p37/lib/python3.7/site-packages (from tensorflow) (16.0.0)\n",
      "Requirement already satisfied: keras<2.12,>=2.11.0 in /home/ec2-user/anaconda3/envs/amazonei_pytorch_latest_p37/lib/python3.7/site-packages (from tensorflow) (2.11.0)\n",
      "Requirement already satisfied: opt-einsum>=2.3.2 in /home/ec2-user/anaconda3/envs/amazonei_pytorch_latest_p37/lib/python3.7/site-packages (from tensorflow) (3.3.0)\n",
      "Requirement already satisfied: google-pasta>=0.1.1 in /home/ec2-user/anaconda3/envs/amazonei_pytorch_latest_p37/lib/python3.7/site-packages (from tensorflow) (0.2.0)\n",
      "Requirement already satisfied: typing-extensions>=3.6.6 in /home/ec2-user/anaconda3/envs/amazonei_pytorch_latest_p37/lib/python3.7/site-packages (from tensorflow) (4.5.0)\n",
      "Requirement already satisfied: astunparse>=1.6.0 in /home/ec2-user/anaconda3/envs/amazonei_pytorch_latest_p37/lib/python3.7/site-packages (from tensorflow) (1.6.3)\n",
      "Requirement already satisfied: protobuf<3.20,>=3.9.2 in /home/ec2-user/anaconda3/envs/amazonei_pytorch_latest_p37/lib/python3.7/site-packages (from tensorflow) (3.19.6)\n",
      "Requirement already satisfied: h5py>=2.9.0 in /home/ec2-user/anaconda3/envs/amazonei_pytorch_latest_p37/lib/python3.7/site-packages (from tensorflow) (3.8.0)\n",
      "Requirement already satisfied: wrapt>=1.11.0 in /home/ec2-user/anaconda3/envs/amazonei_pytorch_latest_p37/lib/python3.7/site-packages (from tensorflow) (1.15.0)\n",
      "Requirement already satisfied: tensorflow-io-gcs-filesystem>=0.23.1 in /home/ec2-user/anaconda3/envs/amazonei_pytorch_latest_p37/lib/python3.7/site-packages (from tensorflow) (0.32.0)\n",
      "Requirement already satisfied: tensorflow-estimator<2.12,>=2.11.0 in /home/ec2-user/anaconda3/envs/amazonei_pytorch_latest_p37/lib/python3.7/site-packages (from tensorflow) (2.11.0)\n",
      "Requirement already satisfied: flatbuffers>=2.0 in /home/ec2-user/anaconda3/envs/amazonei_pytorch_latest_p37/lib/python3.7/site-packages (from tensorflow) (23.3.3)\n",
      "Requirement already satisfied: termcolor>=1.1.0 in /home/ec2-user/anaconda3/envs/amazonei_pytorch_latest_p37/lib/python3.7/site-packages (from tensorflow) (2.3.0)\n",
      "Requirement already satisfied: six>=1.12.0 in /home/ec2-user/anaconda3/envs/amazonei_pytorch_latest_p37/lib/python3.7/site-packages (from tensorflow) (1.16.0)\n",
      "Requirement already satisfied: numpy>=1.20 in /home/ec2-user/anaconda3/envs/amazonei_pytorch_latest_p37/lib/python3.7/site-packages (from tensorflow) (1.21.6)\n",
      "Requirement already satisfied: tensorboard<2.12,>=2.11 in /home/ec2-user/anaconda3/envs/amazonei_pytorch_latest_p37/lib/python3.7/site-packages (from tensorflow) (2.11.2)\n",
      "Requirement already satisfied: wheel<1.0,>=0.23.0 in /home/ec2-user/anaconda3/envs/amazonei_pytorch_latest_p37/lib/python3.7/site-packages (from astunparse>=1.6.0->tensorflow) (0.38.4)\n",
      "Requirement already satisfied: google-auth<3,>=1.6.3 in /home/ec2-user/anaconda3/envs/amazonei_pytorch_latest_p37/lib/python3.7/site-packages (from tensorboard<2.12,>=2.11->tensorflow) (2.17.3)\n",
      "Requirement already satisfied: google-auth-oauthlib<0.5,>=0.4.1 in /home/ec2-user/anaconda3/envs/amazonei_pytorch_latest_p37/lib/python3.7/site-packages (from tensorboard<2.12,>=2.11->tensorflow) (0.4.6)\n",
      "Requirement already satisfied: requests<3,>=2.21.0 in /home/ec2-user/anaconda3/envs/amazonei_pytorch_latest_p37/lib/python3.7/site-packages (from tensorboard<2.12,>=2.11->tensorflow) (2.28.1)\n",
      "Requirement already satisfied: tensorboard-data-server<0.7.0,>=0.6.0 in /home/ec2-user/anaconda3/envs/amazonei_pytorch_latest_p37/lib/python3.7/site-packages (from tensorboard<2.12,>=2.11->tensorflow) (0.6.1)\n",
      "Requirement already satisfied: markdown>=2.6.8 in /home/ec2-user/anaconda3/envs/amazonei_pytorch_latest_p37/lib/python3.7/site-packages (from tensorboard<2.12,>=2.11->tensorflow) (3.4.3)\n",
      "Requirement already satisfied: tensorboard-plugin-wit>=1.6.0 in /home/ec2-user/anaconda3/envs/amazonei_pytorch_latest_p37/lib/python3.7/site-packages (from tensorboard<2.12,>=2.11->tensorflow) (1.8.1)\n",
      "Requirement already satisfied: werkzeug>=1.0.1 in /home/ec2-user/anaconda3/envs/amazonei_pytorch_latest_p37/lib/python3.7/site-packages (from tensorboard<2.12,>=2.11->tensorflow) (2.2.2)\n",
      "Requirement already satisfied: pyparsing!=3.0.5,>=2.0.2 in /home/ec2-user/anaconda3/envs/amazonei_pytorch_latest_p37/lib/python3.7/site-packages (from packaging->tensorflow) (3.0.9)\n",
      "Requirement already satisfied: rsa<5,>=3.1.4 in /home/ec2-user/anaconda3/envs/amazonei_pytorch_latest_p37/lib/python3.7/site-packages (from google-auth<3,>=1.6.3->tensorboard<2.12,>=2.11->tensorflow) (4.7.2)\n",
      "Requirement already satisfied: pyasn1-modules>=0.2.1 in /home/ec2-user/anaconda3/envs/amazonei_pytorch_latest_p37/lib/python3.7/site-packages (from google-auth<3,>=1.6.3->tensorboard<2.12,>=2.11->tensorflow) (0.3.0)\n",
      "Requirement already satisfied: cachetools<6.0,>=2.0.0 in /home/ec2-user/anaconda3/envs/amazonei_pytorch_latest_p37/lib/python3.7/site-packages (from google-auth<3,>=1.6.3->tensorboard<2.12,>=2.11->tensorflow) (5.3.0)\n",
      "Requirement already satisfied: requests-oauthlib>=0.7.0 in /home/ec2-user/anaconda3/envs/amazonei_pytorch_latest_p37/lib/python3.7/site-packages (from google-auth-oauthlib<0.5,>=0.4.1->tensorboard<2.12,>=2.11->tensorflow) (1.3.1)\n",
      "Requirement already satisfied: importlib-metadata>=4.4 in /home/ec2-user/anaconda3/envs/amazonei_pytorch_latest_p37/lib/python3.7/site-packages (from markdown>=2.6.8->tensorboard<2.12,>=2.11->tensorflow) (4.11.4)\n",
      "Requirement already satisfied: idna<4,>=2.5 in /home/ec2-user/anaconda3/envs/amazonei_pytorch_latest_p37/lib/python3.7/site-packages (from requests<3,>=2.21.0->tensorboard<2.12,>=2.11->tensorflow) (3.4)\n",
      "Requirement already satisfied: urllib3<1.27,>=1.21.1 in /home/ec2-user/anaconda3/envs/amazonei_pytorch_latest_p37/lib/python3.7/site-packages (from requests<3,>=2.21.0->tensorboard<2.12,>=2.11->tensorflow) (1.26.8)\n",
      "Requirement already satisfied: certifi>=2017.4.17 in /home/ec2-user/anaconda3/envs/amazonei_pytorch_latest_p37/lib/python3.7/site-packages (from requests<3,>=2.21.0->tensorboard<2.12,>=2.11->tensorflow) (2022.12.7)\n",
      "Requirement already satisfied: charset-normalizer<3,>=2 in /home/ec2-user/anaconda3/envs/amazonei_pytorch_latest_p37/lib/python3.7/site-packages (from requests<3,>=2.21.0->tensorboard<2.12,>=2.11->tensorflow) (2.1.1)\n",
      "Requirement already satisfied: MarkupSafe>=2.1.1 in /home/ec2-user/anaconda3/envs/amazonei_pytorch_latest_p37/lib/python3.7/site-packages (from werkzeug>=1.0.1->tensorboard<2.12,>=2.11->tensorflow) (2.1.1)\n",
      "Requirement already satisfied: zipp>=0.5 in /home/ec2-user/anaconda3/envs/amazonei_pytorch_latest_p37/lib/python3.7/site-packages (from importlib-metadata>=4.4->markdown>=2.6.8->tensorboard<2.12,>=2.11->tensorflow) (3.11.0)\n",
      "Requirement already satisfied: pyasn1<0.6.0,>=0.4.6 in /home/ec2-user/anaconda3/envs/amazonei_pytorch_latest_p37/lib/python3.7/site-packages (from pyasn1-modules>=0.2.1->google-auth<3,>=1.6.3->tensorboard<2.12,>=2.11->tensorflow) (0.4.8)\n",
      "Requirement already satisfied: oauthlib>=3.0.0 in /home/ec2-user/anaconda3/envs/amazonei_pytorch_latest_p37/lib/python3.7/site-packages (from requests-oauthlib>=0.7.0->google-auth-oauthlib<0.5,>=0.4.1->tensorboard<2.12,>=2.11->tensorflow) (3.2.2)\n"
     ]
    }
   ],
   "source": [
    "!pip install tensorflow"
   ]
  },
  {
   "cell_type": "code",
   "execution_count": 17,
   "id": "56091da1",
   "metadata": {},
   "outputs": [
    {
     "name": "stderr",
     "output_type": "stream",
     "text": [
      "2023-04-28 19:34:09.565811: I tensorflow/core/platform/cpu_feature_guard.cc:193] This TensorFlow binary is optimized with oneAPI Deep Neural Network Library (oneDNN) to use the following CPU instructions in performance-critical operations:  AVX2 AVX512F FMA\n",
      "To enable them in other operations, rebuild TensorFlow with the appropriate compiler flags.\n"
     ]
    }
   ],
   "source": [
    "import tensorflow.keras.utils as ku"
   ]
  },
  {
   "cell_type": "markdown",
   "id": "64ace7f3",
   "metadata": {},
   "source": [
    "Keras to-categorical function takes numerical arguments, that's why we need to convert the text labels to numerical values first. To achieve this, we'll define this funnction."
   ]
  },
  {
   "cell_type": "code",
   "execution_count": 18,
   "id": "f4ed559f",
   "metadata": {},
   "outputs": [],
   "source": [
    "def encode_sentiments(sentiment):\n",
    "    if sentiment == \"negative\":\n",
    "        return 0\n",
    "    elif sentiment == \"neutral\":\n",
    "        return 1\n",
    "    elif sentiment == \"positive\":\n",
    "        return 2"
   ]
  },
  {
   "cell_type": "code",
   "execution_count": 19,
   "id": "2f68be50",
   "metadata": {},
   "outputs": [],
   "source": [
    "label_encoding = {0: 'negative', 1: 'neutral', 2: 'positve'}"
   ]
  },
  {
   "cell_type": "code",
   "execution_count": 20,
   "id": "ca7c21c9",
   "metadata": {},
   "outputs": [],
   "source": [
    "sentiments_encoded = [encode_sentiments(sentiment) for sentiment in sentiments]"
   ]
  },
  {
   "cell_type": "code",
   "execution_count": null,
   "id": "514ab438",
   "metadata": {},
   "outputs": [],
   "source": []
  },
  {
   "cell_type": "code",
   "execution_count": null,
   "id": "a7b861df",
   "metadata": {},
   "outputs": [],
   "source": []
  },
  {
   "cell_type": "code",
   "execution_count": null,
   "id": "2cb6af83",
   "metadata": {},
   "outputs": [],
   "source": []
  },
  {
   "cell_type": "code",
   "execution_count": 21,
   "id": "887d57d2",
   "metadata": {},
   "outputs": [
    {
     "name": "stdout",
     "output_type": "stream",
     "text": [
      "['positive' 'positive' 'positive' 'positive' 'positive' 'positive'\n",
      " 'positive' 'positive' 'positive' 'positive']\n",
      "[2, 2, 2, 2, 2, 2, 2, 2, 2, 2]\n"
     ]
    }
   ],
   "source": [
    "print(sentiments[0:10])\n",
    "print(sentiments_encoded[0:10])"
   ]
  },
  {
   "cell_type": "code",
   "execution_count": 22,
   "id": "2d8ffb33",
   "metadata": {},
   "outputs": [],
   "source": [
    "labels = ku.to_categorical(sentiments_encoded, num_classes = 3)"
   ]
  },
  {
   "cell_type": "code",
   "execution_count": 23,
   "id": "7847702c",
   "metadata": {},
   "outputs": [
    {
     "name": "stdout",
     "output_type": "stream",
     "text": [
      "[[0. 0. 1.]\n",
      " [0. 0. 1.]\n",
      " [0. 0. 1.]\n",
      " ...\n",
      " [1. 0. 0.]\n",
      " [1. 0. 0.]\n",
      " [1. 0. 0.]]\n"
     ]
    }
   ],
   "source": [
    "print(labels)"
   ]
  },
  {
   "cell_type": "code",
   "execution_count": null,
   "id": "8cd29cd4",
   "metadata": {},
   "outputs": [],
   "source": []
  },
  {
   "cell_type": "code",
   "execution_count": null,
   "id": "398f7e93",
   "metadata": {},
   "outputs": [],
   "source": []
  },
  {
   "cell_type": "code",
   "execution_count": null,
   "id": "e869c1cf",
   "metadata": {},
   "outputs": [],
   "source": []
  },
  {
   "cell_type": "markdown",
   "id": "defa224e",
   "metadata": {},
   "source": [
    "## Cleaning of the review texts"
   ]
  },
  {
   "cell_type": "markdown",
   "id": "88d06ce7",
   "metadata": {},
   "source": [
    "We'll use regular expression extensively for text preprocessing. A full discussion on regular expressions is out of scope for this course. However, I would highly encourage you to go through these links to know more about them. [link1](https://en.wikipedia.org/wiki/Regular_expression), [link2](https://developers.google.com/edu/python/regular-expressions), [link3](https://docs.python.org/3/library/re.html).\n",
    "\n",
    "We'll mainly use the function \"re.sub(...)\" from the Pyhton \"re\" package. This function substitues a pattern by some other pattern in a text. You can find more information about this function from [here](https://docs.python.org/3/library/re.html)."
   ]
  },
  {
   "cell_type": "code",
   "execution_count": 24,
   "id": "14fdc163",
   "metadata": {},
   "outputs": [
    {
     "name": "stdout",
     "output_type": "stream",
     "text": [
      "I am really really impressed by this product.\n",
      "I am very very impressed by this product.\n"
     ]
    }
   ],
   "source": [
    "test_str = \"I am really really impressed by this product.\"\n",
    "print(test_str)\n",
    "old_pattern = \"really\"\n",
    "new_pattern = \"very\"\n",
    "new_str = re.sub(old_pattern, new_pattern, test_str)\n",
    "print(new_str)"
   ]
  },
  {
   "cell_type": "code",
   "execution_count": 25,
   "id": "48231ae0",
   "metadata": {},
   "outputs": [
    {
     "name": "stdout",
     "output_type": "stream",
     "text": [
      "Python 3.8\n",
      "Python <digit>.<digit>\n"
     ]
    }
   ],
   "source": [
    "test_str = \"Python 3.8\"\n",
    "print(test_str)\n",
    "old_pattern = r'\\d'\n",
    "new_pattern = '<digit>'\n",
    "new_str = re.sub(old_pattern, new_pattern, test_str)\n",
    "print(new_str)"
   ]
  },
  {
   "cell_type": "code",
   "execution_count": null,
   "id": "2f7bfca4",
   "metadata": {},
   "outputs": [],
   "source": []
  },
  {
   "cell_type": "code",
   "execution_count": null,
   "id": "44c52e7d",
   "metadata": {},
   "outputs": [],
   "source": []
  },
  {
   "cell_type": "code",
   "execution_count": null,
   "id": "efb95883",
   "metadata": {},
   "outputs": [],
   "source": []
  },
  {
   "cell_type": "markdown",
   "id": "fefbf250",
   "metadata": {},
   "source": [
    "### Remove hyperlinks"
   ]
  },
  {
   "cell_type": "code",
   "execution_count": 26,
   "id": "c9afc45f",
   "metadata": {},
   "outputs": [
    {
     "name": "stdout",
     "output_type": "stream",
     "text": [
      "Visit https://www.amazon.com for more information on this.\n",
      "Visit   for more information on this.\n"
     ]
    }
   ],
   "source": [
    "test_str = \"Visit https://www.amazon.com for more information on this.\"\n",
    "test_pattern = r'http\\S+'\n",
    "print(test_str)\n",
    "new_str = re.sub(test_pattern, \" \", test_str)\n",
    "print(new_str)"
   ]
  },
  {
   "cell_type": "code",
   "execution_count": 27,
   "id": "c7e79e2d",
   "metadata": {},
   "outputs": [],
   "source": [
    "def remove_hyperlinks(text):\n",
    "    pattern_for_hyperlink = r'http\\S+'\n",
    "    return re.sub(pattern_for_hyperlink, \" \", text)"
   ]
  },
  {
   "cell_type": "code",
   "execution_count": 28,
   "id": "f5aa3513",
   "metadata": {},
   "outputs": [],
   "source": [
    "reviews = [remove_hyperlinks(review) for review in reviews]"
   ]
  },
  {
   "cell_type": "code",
   "execution_count": 29,
   "id": "06fe155a",
   "metadata": {},
   "outputs": [
    {
     "data": {
      "text/plain": [
       "['This product so far has not disappointed. My children love to use it and I like the ability to monitor control what content they see with ease.',\n",
       " 'great for beginner or experienced person. Bought as a gift and she loves it',\n",
       " 'Inexpensive tablet for him to use and learn on, step up from the NABI. He was thrilled with it, learn how to Skype on it already...',\n",
       " \"I've had my Fire HD 8 two weeks now and I love it. This tablet is a great value.We are Prime Members and that is where this tablet SHINES. I love being able to easily access all of the Prime content as well as movies you can download and watch laterThis has a 1280/800 screen which has some really nice look to it its nice and crisp and very bright infact it is brighter then the ipad pro costing $900 base model. The build on this fire is INSANELY AWESOME running at only 7.7mm thick and the smooth glossy feel on the back it is really amazing to hold its like the futuristic tab in ur hands.\",\n",
       " 'I bought this for my grand daughter when she comes over to visit. I set it up with her as the user, entered her age and name and now Amazon makes sure that she only accesses sites and content that are appropriate to her age. Simple to do and she loves the capabilities. I also bought and installed a 64gig SD card which gives this little tablet plenty of storage. For the price I think this tablet is best one out there. You can spend hundreds of dollars more for additional speed and capacity but when it comes to the basics this tablets does everything that most people will ever need at a fraction of the cost.']"
      ]
     },
     "execution_count": 29,
     "metadata": {},
     "output_type": "execute_result"
    }
   ],
   "source": [
    "reviews[0:5]"
   ]
  },
  {
   "cell_type": "code",
   "execution_count": null,
   "id": "afa59878",
   "metadata": {},
   "outputs": [],
   "source": []
  },
  {
   "cell_type": "code",
   "execution_count": null,
   "id": "2de7b34d",
   "metadata": {},
   "outputs": [],
   "source": []
  },
  {
   "cell_type": "code",
   "execution_count": null,
   "id": "6a5414c7",
   "metadata": {},
   "outputs": [],
   "source": []
  },
  {
   "cell_type": "markdown",
   "id": "63609d57",
   "metadata": {},
   "source": [
    "### Expand contracted words"
   ]
  },
  {
   "cell_type": "code",
   "execution_count": 30,
   "id": "041ce721",
   "metadata": {},
   "outputs": [],
   "source": [
    "def remove_contracted_words(text):\n",
    "    text = re.sub(r\"won't\", \"will not\", text)\n",
    "    text = re.sub(r\"can\\'t\", \"can not\", text)\n",
    "    text = re.sub(r\"n\\'t\", \" not\", text)\n",
    "    text = re.sub(r\"\\'re\", \" are\", text)\n",
    "    text = re.sub(r\"\\'s\", \" is\", text)\n",
    "    text = re.sub(r\"\\'d\", \" would\", text)\n",
    "    text = re.sub(r\"\\'ll\", \" will\", text)\n",
    "    text = re.sub(r\"\\'t\", \" not\", text)\n",
    "    text = re.sub(r\"\\'ve\", \" have\", text)\n",
    "    text = re.sub(r\"\\'m\", \" am\", text)\n",
    "    return text"
   ]
  },
  {
   "cell_type": "code",
   "execution_count": 31,
   "id": "2e8bc327",
   "metadata": {},
   "outputs": [
    {
     "name": "stdout",
     "output_type": "stream",
     "text": [
      "I can't use this product. I don't recommend this product to anyone.\n",
      "I can not use this product. I do not recommend this product to anyone.\n"
     ]
    }
   ],
   "source": [
    "test_str = \"I can't use this product. I don't recommend this product to anyone.\"\n",
    "print(test_str)\n",
    "print(remove_contracted_words(test_str))"
   ]
  },
  {
   "cell_type": "code",
   "execution_count": null,
   "id": "0fed7457",
   "metadata": {},
   "outputs": [],
   "source": []
  },
  {
   "cell_type": "code",
   "execution_count": null,
   "id": "a739948f",
   "metadata": {},
   "outputs": [],
   "source": []
  },
  {
   "cell_type": "code",
   "execution_count": null,
   "id": "9c0f4a68",
   "metadata": {},
   "outputs": [],
   "source": []
  },
  {
   "cell_type": "code",
   "execution_count": 32,
   "id": "b9f75d9f",
   "metadata": {},
   "outputs": [],
   "source": [
    "reviews = [remove_contracted_words(review) for review in reviews]"
   ]
  },
  {
   "cell_type": "code",
   "execution_count": 33,
   "id": "b4f92567",
   "metadata": {},
   "outputs": [
    {
     "data": {
      "text/plain": [
       "['This product so far has not disappointed. My children love to use it and I like the ability to monitor control what content they see with ease.',\n",
       " 'great for beginner or experienced person. Bought as a gift and she loves it',\n",
       " 'Inexpensive tablet for him to use and learn on, step up from the NABI. He was thrilled with it, learn how to Skype on it already...',\n",
       " 'I have had my Fire HD 8 two weeks now and I love it. This tablet is a great value.We are Prime Members and that is where this tablet SHINES. I love being able to easily access all of the Prime content as well as movies you can download and watch laterThis has a 1280/800 screen which has some really nice look to it its nice and crisp and very bright infact it is brighter then the ipad pro costing $900 base model. The build on this fire is INSANELY AWESOME running at only 7.7mm thick and the smooth glossy feel on the back it is really amazing to hold its like the futuristic tab in ur hands.',\n",
       " 'I bought this for my grand daughter when she comes over to visit. I set it up with her as the user, entered her age and name and now Amazon makes sure that she only accesses sites and content that are appropriate to her age. Simple to do and she loves the capabilities. I also bought and installed a 64gig SD card which gives this little tablet plenty of storage. For the price I think this tablet is best one out there. You can spend hundreds of dollars more for additional speed and capacity but when it comes to the basics this tablets does everything that most people will ever need at a fraction of the cost.']"
      ]
     },
     "execution_count": 33,
     "metadata": {},
     "output_type": "execute_result"
    }
   ],
   "source": [
    "reviews[0:5]"
   ]
  },
  {
   "cell_type": "code",
   "execution_count": null,
   "id": "f9c17e71",
   "metadata": {},
   "outputs": [],
   "source": []
  },
  {
   "cell_type": "code",
   "execution_count": null,
   "id": "b6f7f489",
   "metadata": {},
   "outputs": [],
   "source": []
  },
  {
   "cell_type": "code",
   "execution_count": null,
   "id": "ad8ac8a1",
   "metadata": {},
   "outputs": [],
   "source": []
  },
  {
   "cell_type": "markdown",
   "id": "0a7ee6fb",
   "metadata": {},
   "source": [
    "### Remove everything other than letters of alphabet"
   ]
  },
  {
   "cell_type": "code",
   "execution_count": 34,
   "id": "d62f23e3",
   "metadata": {},
   "outputs": [],
   "source": [
    "def remove_non_letters(text):\n",
    "    antipattern = r'[^A-Za-z]+'\n",
    "    return re.sub(antipattern, \" \", text)"
   ]
  },
  {
   "cell_type": "code",
   "execution_count": 35,
   "id": "90fcca13",
   "metadata": {},
   "outputs": [
    {
     "data": {
      "text/plain": [
       "['This product so far has not disappointed My children love to use it and I like the ability to monitor control what content they see with ease ',\n",
       " 'great for beginner or experienced person Bought as a gift and she loves it',\n",
       " 'Inexpensive tablet for him to use and learn on step up from the NABI He was thrilled with it learn how to Skype on it already ',\n",
       " 'I have had my Fire HD two weeks now and I love it This tablet is a great value We are Prime Members and that is where this tablet SHINES I love being able to easily access all of the Prime content as well as movies you can download and watch laterThis has a screen which has some really nice look to it its nice and crisp and very bright infact it is brighter then the ipad pro costing base model The build on this fire is INSANELY AWESOME running at only mm thick and the smooth glossy feel on the back it is really amazing to hold its like the futuristic tab in ur hands ',\n",
       " 'I bought this for my grand daughter when she comes over to visit I set it up with her as the user entered her age and name and now Amazon makes sure that she only accesses sites and content that are appropriate to her age Simple to do and she loves the capabilities I also bought and installed a gig SD card which gives this little tablet plenty of storage For the price I think this tablet is best one out there You can spend hundreds of dollars more for additional speed and capacity but when it comes to the basics this tablets does everything that most people will ever need at a fraction of the cost ']"
      ]
     },
     "execution_count": 35,
     "metadata": {},
     "output_type": "execute_result"
    }
   ],
   "source": [
    "reviews = [remove_non_letters(review) for review in reviews]\n",
    "reviews[0:5]"
   ]
  },
  {
   "cell_type": "code",
   "execution_count": null,
   "id": "bcf75593",
   "metadata": {},
   "outputs": [],
   "source": []
  },
  {
   "cell_type": "code",
   "execution_count": null,
   "id": "bfc7a4cc",
   "metadata": {},
   "outputs": [],
   "source": []
  },
  {
   "cell_type": "code",
   "execution_count": null,
   "id": "c5e4ec9b",
   "metadata": {},
   "outputs": [],
   "source": []
  },
  {
   "cell_type": "markdown",
   "id": "a8aadad7",
   "metadata": {},
   "source": [
    "### Remove extra spaces and convert to lowercase\n",
    "Remove extra spaces from the string. First we'll remove anything other than capital or small letter alphabets using the \"re.sub(...)\" method. Then, we'll split the string into words using using the string \"split(...)\" function and join them using the string \"join(...)\" function. This will effectively remove all the extra spaces within the string. Then, we'll remove the leading and trailing spaces by using the string \"strip(...)\" method. To know more about these string operations, you can go through this [link](https://docs.python.org/3.3/library/stdtypes.html?highlight=split)."
   ]
  },
  {
   "cell_type": "code",
   "execution_count": 36,
   "id": "047922c3",
   "metadata": {},
   "outputs": [
    {
     "data": {
      "text/plain": [
       "['I', 'recommend', 'resolution', 'with', 'GB', 'of', 'RAM']"
      ]
     },
     "execution_count": 36,
     "metadata": {},
     "output_type": "execute_result"
    }
   ],
   "source": [
    "test_string = \"I recommend      resolution with   GB of RAM     \"\n",
    "test_string_list = test_string.split()\n",
    "test_string_list"
   ]
  },
  {
   "cell_type": "code",
   "execution_count": 37,
   "id": "fd2c3888",
   "metadata": {},
   "outputs": [
    {
     "data": {
      "text/plain": [
       "'I recommend resolution with GB of RAM'"
      ]
     },
     "execution_count": 37,
     "metadata": {},
     "output_type": "execute_result"
    }
   ],
   "source": [
    "' '.join(test_string_list)"
   ]
  },
  {
   "cell_type": "code",
   "execution_count": 38,
   "id": "6de9a5c2",
   "metadata": {},
   "outputs": [
    {
     "data": {
      "text/plain": [
       "'I do not like this product'"
      ]
     },
     "execution_count": 38,
     "metadata": {},
     "output_type": "execute_result"
    }
   ],
   "source": [
    "test_string = \"       I do not like this product     \"\n",
    "test_string.strip()"
   ]
  },
  {
   "cell_type": "code",
   "execution_count": 39,
   "id": "d0e992a2",
   "metadata": {},
   "outputs": [
    {
     "data": {
      "text/plain": [
       "'i did not like deliver package provided by amazon'"
      ]
     },
     "execution_count": 39,
     "metadata": {},
     "output_type": "execute_result"
    }
   ],
   "source": [
    "test_string = \"I did not like Deliver Package provided by AMAZON\"\n",
    "test_string.lower()"
   ]
  },
  {
   "cell_type": "code",
   "execution_count": null,
   "id": "e51790d0",
   "metadata": {},
   "outputs": [],
   "source": []
  },
  {
   "cell_type": "code",
   "execution_count": null,
   "id": "f6aae7b7",
   "metadata": {},
   "outputs": [],
   "source": []
  },
  {
   "cell_type": "code",
   "execution_count": null,
   "id": "21efe13f",
   "metadata": {},
   "outputs": [],
   "source": []
  },
  {
   "cell_type": "code",
   "execution_count": 40,
   "id": "4e217935",
   "metadata": {},
   "outputs": [],
   "source": [
    "def remove_spaces_and_convert_to_Lowercase(text):\n",
    "    return ' '.join(text.split()).strip().lower()"
   ]
  },
  {
   "cell_type": "code",
   "execution_count": 41,
   "id": "9fb4165c",
   "metadata": {},
   "outputs": [
    {
     "data": {
      "text/plain": [
       "['this product so far has not disappointed my children love to use it and i like the ability to monitor control what content they see with ease',\n",
       " 'great for beginner or experienced person bought as a gift and she loves it',\n",
       " 'inexpensive tablet for him to use and learn on step up from the nabi he was thrilled with it learn how to skype on it already',\n",
       " 'i have had my fire hd two weeks now and i love it this tablet is a great value we are prime members and that is where this tablet shines i love being able to easily access all of the prime content as well as movies you can download and watch laterthis has a screen which has some really nice look to it its nice and crisp and very bright infact it is brighter then the ipad pro costing base model the build on this fire is insanely awesome running at only mm thick and the smooth glossy feel on the back it is really amazing to hold its like the futuristic tab in ur hands',\n",
       " 'i bought this for my grand daughter when she comes over to visit i set it up with her as the user entered her age and name and now amazon makes sure that she only accesses sites and content that are appropriate to her age simple to do and she loves the capabilities i also bought and installed a gig sd card which gives this little tablet plenty of storage for the price i think this tablet is best one out there you can spend hundreds of dollars more for additional speed and capacity but when it comes to the basics this tablets does everything that most people will ever need at a fraction of the cost']"
      ]
     },
     "execution_count": 41,
     "metadata": {},
     "output_type": "execute_result"
    }
   ],
   "source": [
    "reviews = [remove_spaces_and_convert_to_Lowercase(review) for review in reviews]\n",
    "reviews[0:5]"
   ]
  },
  {
   "cell_type": "code",
   "execution_count": null,
   "id": "f5a99189",
   "metadata": {},
   "outputs": [],
   "source": []
  },
  {
   "cell_type": "code",
   "execution_count": null,
   "id": "f321a97a",
   "metadata": {},
   "outputs": [],
   "source": []
  },
  {
   "cell_type": "code",
   "execution_count": null,
   "id": "d2affab0",
   "metadata": {},
   "outputs": [],
   "source": []
  },
  {
   "cell_type": "markdown",
   "id": "51fcaa08",
   "metadata": {},
   "source": [
    "## Tokenization"
   ]
  },
  {
   "cell_type": "markdown",
   "id": "9ad33d6e",
   "metadata": {},
   "source": [
    "We'll use keras tokenizer class and its methods to perform tokenization, create vocabulary and the word to number mapping. To know more about tokenizer class, please consult this [link](https://www.tensorflow.org/api_docs/python/tf/keras/preprocessing/text/Tokenizer)."
   ]
  },
  {
   "cell_type": "code",
   "execution_count": 42,
   "id": "589d53d1",
   "metadata": {},
   "outputs": [],
   "source": [
    "from tensorflow.keras.preprocessing.text import Tokenizer"
   ]
  },
  {
   "cell_type": "code",
   "execution_count": 43,
   "id": "87b0688a",
   "metadata": {},
   "outputs": [],
   "source": [
    "VOCAB_SIZE = 30000\n",
    "UNK_TOK = '<UNK>'"
   ]
  },
  {
   "cell_type": "code",
   "execution_count": 44,
   "id": "f0a1b946",
   "metadata": {},
   "outputs": [],
   "source": [
    "tokenizer = Tokenizer(num_words = VOCAB_SIZE, oov_token=UNK_TOK)"
   ]
  },
  {
   "cell_type": "code",
   "execution_count": 45,
   "id": "73cfa3f9",
   "metadata": {},
   "outputs": [],
   "source": [
    "tokenizer.fit_on_texts(reviews)"
   ]
  },
  {
   "cell_type": "code",
   "execution_count": 46,
   "id": "da676bd6",
   "metadata": {},
   "outputs": [],
   "source": [
    "sequences = tokenizer.texts_to_sequences(reviews)"
   ]
  },
  {
   "cell_type": "code",
   "execution_count": 47,
   "id": "eaf795cb",
   "metadata": {},
   "outputs": [
    {
     "name": "stdout",
     "output_type": "stream",
     "text": [
      "[10, 47, 29, 155, 41, 13, 544, 11, 300, 25, 6, 21, 3, 5, 4, 43, 2, 404, 6, 1494, 212, 82, 311, 58, 257, 15, 415]\n",
      "[4, 16, 61, 11, 36, 258, 206, 559, 112, 5, 4, 25, 3, 10, 17, 7, 9, 12, 269, 44, 37, 120, 756, 5, 20, 7, 416, 10, 17, 3351, 4, 25, 226, 133, 6, 315, 218, 40, 14, 2, 120, 311, 26, 72, 26, 134, 18, 27, 204, 5, 153, 7442, 41, 9, 87, 136, 41, 126, 79, 106, 376, 6, 3, 114, 106, 5, 884, 5, 31, 517, 7443, 3, 7, 1848, 188, 2, 156, 1446, 4510, 1337, 413, 2, 1050, 19, 10, 36, 7, 5867, 157, 879, 55, 90, 3352, 2894, 5, 2, 793, 5868, 441, 19, 2, 197, 3, 7, 79, 186, 6, 384, 114, 43, 2, 4511, 651, 22, 2249, 430]\n"
     ]
    }
   ],
   "source": [
    "print(sequences[0])\n",
    "print(sequences[3])"
   ]
  },
  {
   "cell_type": "code",
   "execution_count": null,
   "id": "d1cd4add",
   "metadata": {},
   "outputs": [],
   "source": []
  },
  {
   "cell_type": "code",
   "execution_count": null,
   "id": "d65b7418",
   "metadata": {},
   "outputs": [],
   "source": []
  },
  {
   "cell_type": "code",
   "execution_count": null,
   "id": "6015484a",
   "metadata": {},
   "outputs": [],
   "source": []
  },
  {
   "cell_type": "markdown",
   "id": "085f5fa9",
   "metadata": {},
   "source": [
    "## Padding"
   ]
  },
  {
   "cell_type": "markdown",
   "id": "be8664f1",
   "metadata": {},
   "source": [
    "We'll use the Keras \"pad_sequences\" function to pad smaller sequences. To know more about this function, please go through this [link](https://www.tensorflow.org/api_docs/python/tf/keras/utils/pad_sequences)"
   ]
  },
  {
   "cell_type": "code",
   "execution_count": 48,
   "id": "9affdbf8",
   "metadata": {},
   "outputs": [],
   "source": [
    "from tensorflow.keras.preprocessing.sequence import pad_sequences"
   ]
  },
  {
   "cell_type": "code",
   "execution_count": 49,
   "id": "a20b1520",
   "metadata": {},
   "outputs": [],
   "source": [
    "MAX_LEN = 32"
   ]
  },
  {
   "cell_type": "code",
   "execution_count": 50,
   "id": "48b4262c",
   "metadata": {},
   "outputs": [],
   "source": [
    "padded_sequences = np.array(pad_sequences(sequences, \n",
    "                                          maxlen=MAX_LEN, \n",
    "                                          padding='post', \n",
    "                                          truncating='post'))"
   ]
  },
  {
   "cell_type": "code",
   "execution_count": 51,
   "id": "de79eaa6",
   "metadata": {},
   "outputs": [
    {
     "name": "stdout",
     "output_type": "stream",
     "text": [
      "[  10   47   29  155   41   13  544   11  300   25    6   21    3    5\n",
      "    4   43    2  404    6 1494  212   82  311   58  257   15  415    0\n",
      "    0    0    0    0]\n",
      "[  12    8  788   54 1927  585   34   26    9   96    5   38   68    3\n",
      "    0    0    0    0    0    0    0    0    0    0    0    0    0    0\n",
      "    0    0    0    0]\n",
      "[   4   16   61   11   36  258  206  559  112    5    4   25    3   10\n",
      "   17    7    9   12  269   44   37  120  756    5   20    7  416   10\n",
      "   17 3351    4   25]\n"
     ]
    }
   ],
   "source": [
    "print(padded_sequences[0])\n",
    "print(padded_sequences[1])\n",
    "print(padded_sequences[3])"
   ]
  },
  {
   "cell_type": "code",
   "execution_count": null,
   "id": "a1069711",
   "metadata": {},
   "outputs": [],
   "source": []
  },
  {
   "cell_type": "code",
   "execution_count": null,
   "id": "f941adcc",
   "metadata": {},
   "outputs": [],
   "source": []
  },
  {
   "cell_type": "code",
   "execution_count": null,
   "id": "bc273dfe",
   "metadata": {},
   "outputs": [],
   "source": []
  },
  {
   "cell_type": "markdown",
   "id": "98c0170f",
   "metadata": {},
   "source": [
    "## Create the model"
   ]
  },
  {
   "cell_type": "markdown",
   "id": "6c837cdf",
   "metadata": {},
   "source": [
    "Import Sequential model from Keras. Import Embedding, Bidirectioanl, SimpleRNN, Flatten and Dense layers from Keras. To know more about them, consult these links. \n",
    "[sequential](https://www.tensorflow.org/api_docs/python/tf/keras/Sequential), \n",
    "[embedding](https://www.tensorflow.org/api_docs/python/tf/keras/layers/Embedding),\n",
    "[bidirectional](https://keras.io/api/layers/recurrent_layers/bidirectional/),\n",
    "[simpleRNN](https://keras.io/api/layers/recurrent_layers/simple_rnn/),\n",
    "[flatten](https://keras.io/api/layers/reshaping_layers/flatten/),\n",
    "[dense](https://www.tensorflow.org/api_docs/python/tf/keras/layers/Dense).\n",
    "\n",
    "To know more about relu activation check out this [link](https://deepai.org/machine-learning-glossary-and-terms/relu)"
   ]
  },
  {
   "cell_type": "code",
   "execution_count": 56,
   "id": "316a2da1",
   "metadata": {},
   "outputs": [],
   "source": [
    "import keras\n",
    "keras.backend.set_image_data_format(\"channels_last\")\n",
    "from keras.layers import LSTM\n",
    "from tensorflow.keras.models import Sequential\n",
    "from tensorflow.keras.layers import Embedding, Bidirectional, SimpleRNN, Flatten, Dense"
   ]
  },
  {
   "cell_type": "code",
   "execution_count": 57,
   "id": "802eee19",
   "metadata": {},
   "outputs": [],
   "source": [
    "def create_model():\n",
    "    model = Sequential()\n",
    "    model.add(Embedding(VOCAB_SIZE, 16, input_length=MAX_LEN))\n",
    "    model.add(Bidirectional(SimpleRNN(64, return_sequences=True)))\n",
    "    model.add(Bidirectional(SimpleRNN(64)))\n",
    "    model.add(Flatten())\n",
    "    model.add(Dense(24, activation='relu'))\n",
    "    model.add(Dense(3, activation='softmax'))\n",
    "    return model"
   ]
  },
  {
   "cell_type": "code",
   "execution_count": 58,
   "id": "f80b5c5d",
   "metadata": {},
   "outputs": [],
   "source": [
    "def create_model_lstm():\n",
    "    model = Sequential()\n",
    "    model.add(Embedding(VOCAB_SIZE, 16, input_length=MAX_LEN))\n",
    "    model.add(Bidirectional(LSTM(64, return_sequences=True)))\n",
    "    model.add(Bidirectional(LSTM(64)))\n",
    "    model.add(Flatten())\n",
    "    model.add(Dense(24, activation='relu'))\n",
    "    model.add(Dense(3, activation='softmax'))\n",
    "    return model"
   ]
  },
  {
   "cell_type": "code",
   "execution_count": 69,
   "id": "f05c97dc",
   "metadata": {},
   "outputs": [],
   "source": [
    "from keras.layers import Conv1D, GlobalMaxPooling1D\n",
    "\n",
    "def create_model_gatedCNN():\n",
    "    model = Sequential()\n",
    "    model.add(Embedding(VOCAB_SIZE, 16, input_length=MAX_LEN))\n",
    "    model.add(Conv1D(64, 3, activation='relu', padding='same', dilation_rate=1))\n",
    "    model.add(Conv1D(64, 3, activation='relu', padding='same', dilation_rate=2))\n",
    "    model.add(Conv1D(64, 3, activation='relu', padding='same', dilation_rate=4))\n",
    "    model.add(Conv1D(64, 3, activation='relu', padding='same', dilation_rate=8))\n",
    "    model.add(GlobalMaxPooling1D())\n",
    "    model.add(Dense(24, activation='relu'))\n",
    "    model.add(Dense(3, activation='softmax'))\n",
    "    return model"
   ]
  },
  {
   "cell_type": "code",
   "execution_count": 70,
   "id": "6e7be597",
   "metadata": {},
   "outputs": [],
   "source": [
    "model = create_model_gatedCNN()"
   ]
  },
  {
   "cell_type": "code",
   "execution_count": null,
   "id": "39ef53b3",
   "metadata": {},
   "outputs": [],
   "source": []
  },
  {
   "cell_type": "code",
   "execution_count": null,
   "id": "87851175",
   "metadata": {},
   "outputs": [],
   "source": []
  },
  {
   "cell_type": "code",
   "execution_count": 71,
   "id": "842bc392",
   "metadata": {},
   "outputs": [],
   "source": [
    "model.compile(optimizer='adam', loss='categorical_crossentropy', metrics=['accuracy'])"
   ]
  },
  {
   "cell_type": "code",
   "execution_count": 72,
   "id": "470aff5c",
   "metadata": {},
   "outputs": [
    {
     "name": "stdout",
     "output_type": "stream",
     "text": [
      "Model: \"sequential_2\"\n",
      "_________________________________________________________________\n",
      " Layer (type)                Output Shape              Param #   \n",
      "=================================================================\n",
      " embedding_2 (Embedding)     (None, 32, 16)            480000    \n",
      "                                                                 \n",
      " conv1d (Conv1D)             (None, 32, 64)            3136      \n",
      "                                                                 \n",
      " conv1d_1 (Conv1D)           (None, 32, 64)            12352     \n",
      "                                                                 \n",
      " conv1d_2 (Conv1D)           (None, 32, 64)            12352     \n",
      "                                                                 \n",
      " conv1d_3 (Conv1D)           (None, 32, 64)            12352     \n",
      "                                                                 \n",
      " global_max_pooling1d (Globa  (None, 64)               0         \n",
      " lMaxPooling1D)                                                  \n",
      "                                                                 \n",
      " dense_2 (Dense)             (None, 24)                1560      \n",
      "                                                                 \n",
      " dense_3 (Dense)             (None, 3)                 75        \n",
      "                                                                 \n",
      "=================================================================\n",
      "Total params: 521,827\n",
      "Trainable params: 521,827\n",
      "Non-trainable params: 0\n",
      "_________________________________________________________________\n"
     ]
    }
   ],
   "source": [
    "model.summary()"
   ]
  },
  {
   "cell_type": "code",
   "execution_count": null,
   "id": "e7e3c031",
   "metadata": {},
   "outputs": [],
   "source": []
  },
  {
   "cell_type": "code",
   "execution_count": null,
   "id": "d4bb96c1",
   "metadata": {},
   "outputs": [],
   "source": []
  },
  {
   "cell_type": "code",
   "execution_count": null,
   "id": "ff8bde3e",
   "metadata": {},
   "outputs": [],
   "source": []
  },
  {
   "cell_type": "markdown",
   "id": "820b1b70",
   "metadata": {},
   "source": [
    "## Model training"
   ]
  },
  {
   "cell_type": "code",
   "execution_count": 73,
   "id": "f3dec5a5",
   "metadata": {
    "scrolled": false
   },
   "outputs": [
    {
     "name": "stdout",
     "output_type": "stream",
     "text": [
      "Epoch 1/10\n",
      "866/866 [==============================] - 11s 12ms/step - loss: 0.2682 - accuracy: 0.9289 - val_loss: 0.2166 - val_accuracy: 0.9464\n",
      "Epoch 2/10\n",
      "866/866 [==============================] - 10s 11ms/step - loss: 0.2077 - accuracy: 0.9323 - val_loss: 0.2086 - val_accuracy: 0.9456\n",
      "Epoch 3/10\n",
      "866/866 [==============================] - 10s 11ms/step - loss: 0.1817 - accuracy: 0.9383 - val_loss: 0.2583 - val_accuracy: 0.9163\n",
      "Epoch 4/10\n",
      "866/866 [==============================] - 10s 11ms/step - loss: 0.1572 - accuracy: 0.9453 - val_loss: 0.2496 - val_accuracy: 0.9324\n",
      "Epoch 5/10\n",
      "866/866 [==============================] - 9s 11ms/step - loss: 0.1353 - accuracy: 0.9528 - val_loss: 0.3006 - val_accuracy: 0.9271\n",
      "Epoch 6/10\n",
      "866/866 [==============================] - 9s 11ms/step - loss: 0.1141 - accuracy: 0.9605 - val_loss: 0.3671 - val_accuracy: 0.8904\n",
      "Epoch 7/10\n",
      "866/866 [==============================] - 10s 11ms/step - loss: 0.0952 - accuracy: 0.9678 - val_loss: 0.4620 - val_accuracy: 0.8934\n",
      "Epoch 8/10\n",
      "866/866 [==============================] - 11s 12ms/step - loss: 0.0777 - accuracy: 0.9742 - val_loss: 0.4861 - val_accuracy: 0.8940\n",
      "Epoch 9/10\n",
      "866/866 [==============================] - 9s 11ms/step - loss: 0.0631 - accuracy: 0.9790 - val_loss: 0.4857 - val_accuracy: 0.9171\n",
      "Epoch 10/10\n",
      "866/866 [==============================] - 9s 11ms/step - loss: 0.0504 - accuracy: 0.9846 - val_loss: 0.5702 - val_accuracy: 0.9036\n"
     ]
    },
    {
     "data": {
      "text/plain": [
       "<keras.callbacks.History at 0x7f1eed73ea10>"
      ]
     },
     "execution_count": 73,
     "metadata": {},
     "output_type": "execute_result"
    }
   ],
   "source": [
    "model.fit(padded_sequences, labels, epochs=10, validation_split=0.2)"
   ]
  },
  {
   "cell_type": "code",
   "execution_count": null,
   "id": "b84e09f5",
   "metadata": {},
   "outputs": [],
   "source": []
  },
  {
   "cell_type": "code",
   "execution_count": null,
   "id": "ba9f0b8b",
   "metadata": {},
   "outputs": [],
   "source": []
  },
  {
   "cell_type": "code",
   "execution_count": null,
   "id": "8e823813",
   "metadata": {},
   "outputs": [],
   "source": []
  },
  {
   "cell_type": "markdown",
   "id": "2a03ad28",
   "metadata": {},
   "source": [
    "## Sentiment prediction using trained model"
   ]
  },
  {
   "cell_type": "code",
   "execution_count": 74,
   "id": "030af1d7",
   "metadata": {},
   "outputs": [],
   "source": [
    "positive_sample = 'i gave this as a christmas gift to my inlaws husband and uncle they \\\n",
    "loved it and how easy they are to use with fantastic features'"
   ]
  },
  {
   "cell_type": "code",
   "execution_count": 75,
   "id": "3245beea",
   "metadata": {},
   "outputs": [],
   "source": [
    "sample_sequence = tokenizer.texts_to_sequences([positive_sample])[0]\n",
    "sample_sequence_padded = pad_sequences([sample_sequence], \n",
    "                                       maxlen=MAX_LEN, \n",
    "                                       padding='post', \n",
    "                                       truncating='post')"
   ]
  },
  {
   "cell_type": "code",
   "execution_count": 76,
   "id": "d3bfabc9",
   "metadata": {},
   "outputs": [
    {
     "name": "stdout",
     "output_type": "stream",
     "text": [
      "[[0.002 0.    0.998]]\n"
     ]
    }
   ],
   "source": [
    "predictions = model.predict(sample_sequence_padded, verbose=0)\n",
    "print(np.round(predictions, 3))"
   ]
  },
  {
   "cell_type": "code",
   "execution_count": 77,
   "id": "05662414",
   "metadata": {},
   "outputs": [
    {
     "name": "stdout",
     "output_type": "stream",
     "text": [
      "Review: i gave this as a christmas gift to my inlaws husband and uncle they loved it and how easy they are to use with fantastic features\n",
      "Sentiment: positve\n"
     ]
    }
   ],
   "source": [
    "predicted_label = np.argmax(predictions, axis=1)[0]\n",
    "print(\"Review:\", positive_sample)\n",
    "print(\"Sentiment:\", label_encoding[predicted_label])"
   ]
  },
  {
   "cell_type": "code",
   "execution_count": null,
   "id": "afb9e681",
   "metadata": {},
   "outputs": [],
   "source": []
  },
  {
   "cell_type": "code",
   "execution_count": null,
   "id": "07965859",
   "metadata": {},
   "outputs": [],
   "source": []
  },
  {
   "cell_type": "code",
   "execution_count": null,
   "id": "1fcf1529",
   "metadata": {},
   "outputs": [],
   "source": []
  },
  {
   "cell_type": "code",
   "execution_count": 78,
   "id": "bde2a733",
   "metadata": {},
   "outputs": [],
   "source": [
    "negative_sample = 'if ads dont bother you then this may be a decent device purchased this \\\n",
    "for my kid and it was loaded down with so much spam it kept loading it up making \\\n",
    "it slow and laggy plus the carrasoul loadout makes it hard to navigate for kids \\\n",
    "not very kid friendly oh you can pay to remove the ads but it wont remove them all \\\n",
    "buy the samsung better everything'"
   ]
  },
  {
   "cell_type": "code",
   "execution_count": 79,
   "id": "2ae117b3",
   "metadata": {},
   "outputs": [
    {
     "name": "stdout",
     "output_type": "stream",
     "text": [
      "Review: if ads dont bother you then this may be a decent device purchased this for my kid and it was loaded down with so much spam it kept loading it up making it slow and laggy plus the carrasoul loadout makes it hard to navigate for kids not very kid friendly oh you can pay to remove the ads but it wont remove them all buy the samsung better everything\n",
      "Sentiment: negative\n"
     ]
    }
   ],
   "source": [
    "sample_sequence = tokenizer.texts_to_sequences([negative_sample])[0]\n",
    "sample_sequence_padded = pad_sequences([sample_sequence], \n",
    "                                       maxlen=MAX_LEN, \n",
    "                                       padding='post', \n",
    "                                       truncating='post')\n",
    "predictions = model.predict(sample_sequence_padded, verbose=0)\n",
    "predicted_label = np.argmax(predictions, axis=1)[0]\n",
    "print(\"Review:\", negative_sample)\n",
    "print(\"Sentiment:\", label_encoding[predicted_label])"
   ]
  },
  {
   "cell_type": "code",
   "execution_count": null,
   "id": "c92bc6e2",
   "metadata": {},
   "outputs": [],
   "source": []
  },
  {
   "cell_type": "code",
   "execution_count": null,
   "id": "9757b0d7",
   "metadata": {},
   "outputs": [],
   "source": []
  },
  {
   "cell_type": "code",
   "execution_count": null,
   "id": "7452e16e",
   "metadata": {},
   "outputs": [],
   "source": []
  }
 ],
 "metadata": {
  "kernelspec": {
   "display_name": "conda_amazonei_pytorch_latest_p37",
   "language": "python",
   "name": "conda_amazonei_pytorch_latest_p37"
  },
  "language_info": {
   "codemirror_mode": {
    "name": "ipython",
    "version": 3
   },
   "file_extension": ".py",
   "mimetype": "text/x-python",
   "name": "python",
   "nbconvert_exporter": "python",
   "pygments_lexer": "ipython3",
   "version": "3.7.10"
  }
 },
 "nbformat": 4,
 "nbformat_minor": 5
}
